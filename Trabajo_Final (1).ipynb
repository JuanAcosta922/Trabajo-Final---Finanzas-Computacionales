{
  "nbformat": 4,
  "nbformat_minor": 0,
  "metadata": {
    "colab": {
      "provenance": []
    },
    "kernelspec": {
      "name": "python3",
      "display_name": "Python 3"
    },
    "language_info": {
      "name": "python"
    }
  },
  "cells": [
    {
      "cell_type": "markdown",
      "source": [
        "# **Finanzas Computacionales **\n",
        "\n",
        "# **Trabajo Final **\n",
        "\n",
        "# **Juan Esteban Acosta Sandoval **\n",
        "\n"
      ],
      "metadata": {
        "id": "tKg-ejF3NbM5"
      }
    },
    {
      "cell_type": "markdown",
      "source": [
        "Librerias para desarrollar el trabajo \n"
      ],
      "metadata": {
        "id": "-ZutU9HMOQGR"
      }
    },
    {
      "cell_type": "code",
      "source": [
        "import pandas as pd \n",
        "import numpy as np \n",
        "import seaborn as sns\n",
        "import scipy.stats\n",
        "from scipy.stats import norm\n",
        "import matplotlib.pyplot as plt\n",
        "import warnings\n",
        "warnings.simplefilter(\"ignore\")\n",
        "import cvxpy as cp\n",
        "!pip install yfinance\n",
        "import yfinance as yf\n",
        "!pip install fitter\n",
        "from fitter import Fitter, get_common_distributions, get_distributions"
      ],
      "metadata": {
        "colab": {
          "base_uri": "https://localhost:8080/"
        },
        "id": "ceAoNfN7OS8-",
        "outputId": "dda57e5d-339f-4c43-d616-ded75d96fb91"
      },
      "execution_count": null,
      "outputs": [
        {
          "output_type": "stream",
          "name": "stdout",
          "text": [
            "Looking in indexes: https://pypi.org/simple, https://us-python.pkg.dev/colab-wheels/public/simple/\n",
            "Collecting yfinance\n",
            "  Downloading yfinance-0.1.87-py2.py3-none-any.whl (29 kB)\n",
            "Requirement already satisfied: numpy>=1.15 in /usr/local/lib/python3.7/dist-packages (from yfinance) (1.21.6)\n",
            "Requirement already satisfied: appdirs>=1.4.4 in /usr/local/lib/python3.7/dist-packages (from yfinance) (1.4.4)\n",
            "Requirement already satisfied: lxml>=4.5.1 in /usr/local/lib/python3.7/dist-packages (from yfinance) (4.9.1)\n",
            "Collecting requests>=2.26\n",
            "  Downloading requests-2.28.1-py3-none-any.whl (62 kB)\n",
            "\u001b[K     |████████████████████████████████| 62 kB 1.0 MB/s \n",
            "\u001b[?25hRequirement already satisfied: pandas>=0.24.0 in /usr/local/lib/python3.7/dist-packages (from yfinance) (1.3.5)\n",
            "Requirement already satisfied: multitasking>=0.0.7 in /usr/local/lib/python3.7/dist-packages (from yfinance) (0.0.11)\n",
            "Requirement already satisfied: pytz>=2017.3 in /usr/local/lib/python3.7/dist-packages (from pandas>=0.24.0->yfinance) (2022.6)\n",
            "Requirement already satisfied: python-dateutil>=2.7.3 in /usr/local/lib/python3.7/dist-packages (from pandas>=0.24.0->yfinance) (2.8.2)\n",
            "Requirement already satisfied: six>=1.5 in /usr/local/lib/python3.7/dist-packages (from python-dateutil>=2.7.3->pandas>=0.24.0->yfinance) (1.15.0)\n",
            "Requirement already satisfied: certifi>=2017.4.17 in /usr/local/lib/python3.7/dist-packages (from requests>=2.26->yfinance) (2022.9.24)\n",
            "Requirement already satisfied: urllib3<1.27,>=1.21.1 in /usr/local/lib/python3.7/dist-packages (from requests>=2.26->yfinance) (1.24.3)\n",
            "Requirement already satisfied: idna<4,>=2.5 in /usr/local/lib/python3.7/dist-packages (from requests>=2.26->yfinance) (2.10)\n",
            "Requirement already satisfied: charset-normalizer<3,>=2 in /usr/local/lib/python3.7/dist-packages (from requests>=2.26->yfinance) (2.1.1)\n",
            "Installing collected packages: requests, yfinance\n",
            "  Attempting uninstall: requests\n",
            "    Found existing installation: requests 2.23.0\n",
            "    Uninstalling requests-2.23.0:\n",
            "      Successfully uninstalled requests-2.23.0\n",
            "Successfully installed requests-2.28.1 yfinance-0.1.87\n",
            "Looking in indexes: https://pypi.org/simple, https://us-python.pkg.dev/colab-wheels/public/simple/\n",
            "Collecting fitter\n",
            "  Downloading fitter-1.5.1.tar.gz (27 kB)\n",
            "Requirement already satisfied: click in /usr/local/lib/python3.7/dist-packages (from fitter) (7.1.2)\n",
            "Requirement already satisfied: joblib in /usr/local/lib/python3.7/dist-packages (from fitter) (1.2.0)\n",
            "Requirement already satisfied: matplotlib in /usr/local/lib/python3.7/dist-packages (from fitter) (3.2.2)\n",
            "Requirement already satisfied: numpy in /usr/local/lib/python3.7/dist-packages (from fitter) (1.21.6)\n",
            "Requirement already satisfied: pandas in /usr/local/lib/python3.7/dist-packages (from fitter) (1.3.5)\n",
            "Requirement already satisfied: scipy>=0.18 in /usr/local/lib/python3.7/dist-packages (from fitter) (1.7.3)\n",
            "Requirement already satisfied: tqdm in /usr/local/lib/python3.7/dist-packages (from fitter) (4.64.1)\n",
            "Requirement already satisfied: cycler>=0.10 in /usr/local/lib/python3.7/dist-packages (from matplotlib->fitter) (0.11.0)\n",
            "Requirement already satisfied: pyparsing!=2.0.4,!=2.1.2,!=2.1.6,>=2.0.1 in /usr/local/lib/python3.7/dist-packages (from matplotlib->fitter) (3.0.9)\n",
            "Requirement already satisfied: python-dateutil>=2.1 in /usr/local/lib/python3.7/dist-packages (from matplotlib->fitter) (2.8.2)\n",
            "Requirement already satisfied: kiwisolver>=1.0.1 in /usr/local/lib/python3.7/dist-packages (from matplotlib->fitter) (1.4.4)\n",
            "Requirement already satisfied: typing-extensions in /usr/local/lib/python3.7/dist-packages (from kiwisolver>=1.0.1->matplotlib->fitter) (4.1.1)\n",
            "Requirement already satisfied: six>=1.5 in /usr/local/lib/python3.7/dist-packages (from python-dateutil>=2.1->matplotlib->fitter) (1.15.0)\n",
            "Requirement already satisfied: pytz>=2017.3 in /usr/local/lib/python3.7/dist-packages (from pandas->fitter) (2022.6)\n",
            "Building wheels for collected packages: fitter\n",
            "  Building wheel for fitter (setup.py) ... \u001b[?25l\u001b[?25hdone\n",
            "  Created wheel for fitter: filename=fitter-1.5.1-py3-none-any.whl size=25595 sha256=b8ae79ec795037bb626610531956a935a7ac3c5d8f00fb6d78f48db2f8f55550\n",
            "  Stored in directory: /root/.cache/pip/wheels/40/65/62/57b872ba7af36e70111b1f67cffe76f97c747804aff7665ccb\n",
            "Successfully built fitter\n",
            "Installing collected packages: fitter\n",
            "Successfully installed fitter-1.5.1\n"
          ]
        }
      ]
    },
    {
      "cell_type": "markdown",
      "source": [
        "# El problema a realizar es ver como la acción de ecopetrol a venido a la baja y desde ahí realizar el manejo de datos, estadisticos descritivos y de visualización, realizar la optimización y la simulación de Monte Carlo "
      ],
      "metadata": {
        "id": "u2rl5ySXhZxU"
      }
    },
    {
      "cell_type": "code",
      "source": [
        "from google.colab import files\n",
        "uploaded = files.upload()\n",
        "\n",
        "\n"
      ],
      "metadata": {
        "colab": {
          "base_uri": "https://localhost:8080/",
          "height": 74
        },
        "id": "RVDJtMvSILY9",
        "outputId": "ba0c8ce3-226d-416e-f46c-1256234fae18"
      },
      "execution_count": null,
      "outputs": [
        {
          "output_type": "display_data",
          "data": {
            "text/plain": [
              "<IPython.core.display.HTML object>"
            ],
            "text/html": [
              "\n",
              "     <input type=\"file\" id=\"files-b8c9a466-4539-4127-a9ba-19101e2511a5\" name=\"files[]\" multiple disabled\n",
              "        style=\"border:none\" />\n",
              "     <output id=\"result-b8c9a466-4539-4127-a9ba-19101e2511a5\">\n",
              "      Upload widget is only available when the cell has been executed in the\n",
              "      current browser session. Please rerun this cell to enable.\n",
              "      </output>\n",
              "      <script>// Copyright 2017 Google LLC\n",
              "//\n",
              "// Licensed under the Apache License, Version 2.0 (the \"License\");\n",
              "// you may not use this file except in compliance with the License.\n",
              "// You may obtain a copy of the License at\n",
              "//\n",
              "//      http://www.apache.org/licenses/LICENSE-2.0\n",
              "//\n",
              "// Unless required by applicable law or agreed to in writing, software\n",
              "// distributed under the License is distributed on an \"AS IS\" BASIS,\n",
              "// WITHOUT WARRANTIES OR CONDITIONS OF ANY KIND, either express or implied.\n",
              "// See the License for the specific language governing permissions and\n",
              "// limitations under the License.\n",
              "\n",
              "/**\n",
              " * @fileoverview Helpers for google.colab Python module.\n",
              " */\n",
              "(function(scope) {\n",
              "function span(text, styleAttributes = {}) {\n",
              "  const element = document.createElement('span');\n",
              "  element.textContent = text;\n",
              "  for (const key of Object.keys(styleAttributes)) {\n",
              "    element.style[key] = styleAttributes[key];\n",
              "  }\n",
              "  return element;\n",
              "}\n",
              "\n",
              "// Max number of bytes which will be uploaded at a time.\n",
              "const MAX_PAYLOAD_SIZE = 100 * 1024;\n",
              "\n",
              "function _uploadFiles(inputId, outputId) {\n",
              "  const steps = uploadFilesStep(inputId, outputId);\n",
              "  const outputElement = document.getElementById(outputId);\n",
              "  // Cache steps on the outputElement to make it available for the next call\n",
              "  // to uploadFilesContinue from Python.\n",
              "  outputElement.steps = steps;\n",
              "\n",
              "  return _uploadFilesContinue(outputId);\n",
              "}\n",
              "\n",
              "// This is roughly an async generator (not supported in the browser yet),\n",
              "// where there are multiple asynchronous steps and the Python side is going\n",
              "// to poll for completion of each step.\n",
              "// This uses a Promise to block the python side on completion of each step,\n",
              "// then passes the result of the previous step as the input to the next step.\n",
              "function _uploadFilesContinue(outputId) {\n",
              "  const outputElement = document.getElementById(outputId);\n",
              "  const steps = outputElement.steps;\n",
              "\n",
              "  const next = steps.next(outputElement.lastPromiseValue);\n",
              "  return Promise.resolve(next.value.promise).then((value) => {\n",
              "    // Cache the last promise value to make it available to the next\n",
              "    // step of the generator.\n",
              "    outputElement.lastPromiseValue = value;\n",
              "    return next.value.response;\n",
              "  });\n",
              "}\n",
              "\n",
              "/**\n",
              " * Generator function which is called between each async step of the upload\n",
              " * process.\n",
              " * @param {string} inputId Element ID of the input file picker element.\n",
              " * @param {string} outputId Element ID of the output display.\n",
              " * @return {!Iterable<!Object>} Iterable of next steps.\n",
              " */\n",
              "function* uploadFilesStep(inputId, outputId) {\n",
              "  const inputElement = document.getElementById(inputId);\n",
              "  inputElement.disabled = false;\n",
              "\n",
              "  const outputElement = document.getElementById(outputId);\n",
              "  outputElement.innerHTML = '';\n",
              "\n",
              "  const pickedPromise = new Promise((resolve) => {\n",
              "    inputElement.addEventListener('change', (e) => {\n",
              "      resolve(e.target.files);\n",
              "    });\n",
              "  });\n",
              "\n",
              "  const cancel = document.createElement('button');\n",
              "  inputElement.parentElement.appendChild(cancel);\n",
              "  cancel.textContent = 'Cancel upload';\n",
              "  const cancelPromise = new Promise((resolve) => {\n",
              "    cancel.onclick = () => {\n",
              "      resolve(null);\n",
              "    };\n",
              "  });\n",
              "\n",
              "  // Wait for the user to pick the files.\n",
              "  const files = yield {\n",
              "    promise: Promise.race([pickedPromise, cancelPromise]),\n",
              "    response: {\n",
              "      action: 'starting',\n",
              "    }\n",
              "  };\n",
              "\n",
              "  cancel.remove();\n",
              "\n",
              "  // Disable the input element since further picks are not allowed.\n",
              "  inputElement.disabled = true;\n",
              "\n",
              "  if (!files) {\n",
              "    return {\n",
              "      response: {\n",
              "        action: 'complete',\n",
              "      }\n",
              "    };\n",
              "  }\n",
              "\n",
              "  for (const file of files) {\n",
              "    const li = document.createElement('li');\n",
              "    li.append(span(file.name, {fontWeight: 'bold'}));\n",
              "    li.append(span(\n",
              "        `(${file.type || 'n/a'}) - ${file.size} bytes, ` +\n",
              "        `last modified: ${\n",
              "            file.lastModifiedDate ? file.lastModifiedDate.toLocaleDateString() :\n",
              "                                    'n/a'} - `));\n",
              "    const percent = span('0% done');\n",
              "    li.appendChild(percent);\n",
              "\n",
              "    outputElement.appendChild(li);\n",
              "\n",
              "    const fileDataPromise = new Promise((resolve) => {\n",
              "      const reader = new FileReader();\n",
              "      reader.onload = (e) => {\n",
              "        resolve(e.target.result);\n",
              "      };\n",
              "      reader.readAsArrayBuffer(file);\n",
              "    });\n",
              "    // Wait for the data to be ready.\n",
              "    let fileData = yield {\n",
              "      promise: fileDataPromise,\n",
              "      response: {\n",
              "        action: 'continue',\n",
              "      }\n",
              "    };\n",
              "\n",
              "    // Use a chunked sending to avoid message size limits. See b/62115660.\n",
              "    let position = 0;\n",
              "    do {\n",
              "      const length = Math.min(fileData.byteLength - position, MAX_PAYLOAD_SIZE);\n",
              "      const chunk = new Uint8Array(fileData, position, length);\n",
              "      position += length;\n",
              "\n",
              "      const base64 = btoa(String.fromCharCode.apply(null, chunk));\n",
              "      yield {\n",
              "        response: {\n",
              "          action: 'append',\n",
              "          file: file.name,\n",
              "          data: base64,\n",
              "        },\n",
              "      };\n",
              "\n",
              "      let percentDone = fileData.byteLength === 0 ?\n",
              "          100 :\n",
              "          Math.round((position / fileData.byteLength) * 100);\n",
              "      percent.textContent = `${percentDone}% done`;\n",
              "\n",
              "    } while (position < fileData.byteLength);\n",
              "  }\n",
              "\n",
              "  // All done.\n",
              "  yield {\n",
              "    response: {\n",
              "      action: 'complete',\n",
              "    }\n",
              "  };\n",
              "}\n",
              "\n",
              "scope.google = scope.google || {};\n",
              "scope.google.colab = scope.google.colab || {};\n",
              "scope.google.colab._files = {\n",
              "  _uploadFiles,\n",
              "  _uploadFilesContinue,\n",
              "};\n",
              "})(self);\n",
              "</script> "
            ]
          },
          "metadata": {}
        },
        {
          "output_type": "stream",
          "name": "stdout",
          "text": [
            "Saving EC.xlsx to EC.xlsx\n"
          ]
        }
      ]
    },
    {
      "cell_type": "markdown",
      "source": [
        "Se realizara la importación de datos de Excel a Colaboratory"
      ],
      "metadata": {
        "id": "v6HxWa2sxGV8"
      }
    },
    {
      "cell_type": "code",
      "source": [
        "EC = pd.read_excel(\"/content/EC.xlsx\",index_col = 0)\n",
        "EC"
      ],
      "metadata": {
        "colab": {
          "base_uri": "https://localhost:8080/",
          "height": 455
        },
        "id": "4bOnxN6_xFp6",
        "outputId": "4f468da2-4fdb-457d-a0e1-0ae8e2b1b7d3"
      },
      "execution_count": null,
      "outputs": [
        {
          "output_type": "execute_result",
          "data": {
            "text/plain": [
              "                High       Low     Close  Adj Close    Volume  Unnamed: 6\n",
              "Open                                                                     \n",
              "2017-11-20  11670000  11670000  11270000   11500000   7854057     2038300\n",
              "2017-11-21  11600000  11680000  11520000   11560000   7895036     1253200\n",
              "2017-11-22  11630000  11920000  11620000   11890000   8120413     1334800\n",
              "2017-11-24  11940000  11980000  11730000   11750000   8024797      790600\n",
              "2017-11-27  11640000  11940000  11500000   11880000   8113584     1834200\n",
              "...              ...       ...       ...        ...       ...         ...\n",
              "2022-11-14  10000000  10630000  10000000   10380000  10380000     2315600\n",
              "2022-11-15  10590000  10590000  10180000   10360000  10360000     2617600\n",
              "2022-11-16  10250000  10310000   9910000    9930000   9930000     2147500\n",
              "2022-11-17   9730000  10110000   9630000   10080000  10080000     2082500\n",
              "2022-11-18  10000000  10000000   9810000    9890000   9890000     1254500\n",
              "\n",
              "[1259 rows x 6 columns]"
            ],
            "text/html": [
              "\n",
              "  <div id=\"df-5480a734-16c3-4e67-8ec8-79a362691da1\">\n",
              "    <div class=\"colab-df-container\">\n",
              "      <div>\n",
              "<style scoped>\n",
              "    .dataframe tbody tr th:only-of-type {\n",
              "        vertical-align: middle;\n",
              "    }\n",
              "\n",
              "    .dataframe tbody tr th {\n",
              "        vertical-align: top;\n",
              "    }\n",
              "\n",
              "    .dataframe thead th {\n",
              "        text-align: right;\n",
              "    }\n",
              "</style>\n",
              "<table border=\"1\" class=\"dataframe\">\n",
              "  <thead>\n",
              "    <tr style=\"text-align: right;\">\n",
              "      <th></th>\n",
              "      <th>High</th>\n",
              "      <th>Low</th>\n",
              "      <th>Close</th>\n",
              "      <th>Adj Close</th>\n",
              "      <th>Volume</th>\n",
              "      <th>Unnamed: 6</th>\n",
              "    </tr>\n",
              "    <tr>\n",
              "      <th>Open</th>\n",
              "      <th></th>\n",
              "      <th></th>\n",
              "      <th></th>\n",
              "      <th></th>\n",
              "      <th></th>\n",
              "      <th></th>\n",
              "    </tr>\n",
              "  </thead>\n",
              "  <tbody>\n",
              "    <tr>\n",
              "      <th>2017-11-20</th>\n",
              "      <td>11670000</td>\n",
              "      <td>11670000</td>\n",
              "      <td>11270000</td>\n",
              "      <td>11500000</td>\n",
              "      <td>7854057</td>\n",
              "      <td>2038300</td>\n",
              "    </tr>\n",
              "    <tr>\n",
              "      <th>2017-11-21</th>\n",
              "      <td>11600000</td>\n",
              "      <td>11680000</td>\n",
              "      <td>11520000</td>\n",
              "      <td>11560000</td>\n",
              "      <td>7895036</td>\n",
              "      <td>1253200</td>\n",
              "    </tr>\n",
              "    <tr>\n",
              "      <th>2017-11-22</th>\n",
              "      <td>11630000</td>\n",
              "      <td>11920000</td>\n",
              "      <td>11620000</td>\n",
              "      <td>11890000</td>\n",
              "      <td>8120413</td>\n",
              "      <td>1334800</td>\n",
              "    </tr>\n",
              "    <tr>\n",
              "      <th>2017-11-24</th>\n",
              "      <td>11940000</td>\n",
              "      <td>11980000</td>\n",
              "      <td>11730000</td>\n",
              "      <td>11750000</td>\n",
              "      <td>8024797</td>\n",
              "      <td>790600</td>\n",
              "    </tr>\n",
              "    <tr>\n",
              "      <th>2017-11-27</th>\n",
              "      <td>11640000</td>\n",
              "      <td>11940000</td>\n",
              "      <td>11500000</td>\n",
              "      <td>11880000</td>\n",
              "      <td>8113584</td>\n",
              "      <td>1834200</td>\n",
              "    </tr>\n",
              "    <tr>\n",
              "      <th>...</th>\n",
              "      <td>...</td>\n",
              "      <td>...</td>\n",
              "      <td>...</td>\n",
              "      <td>...</td>\n",
              "      <td>...</td>\n",
              "      <td>...</td>\n",
              "    </tr>\n",
              "    <tr>\n",
              "      <th>2022-11-14</th>\n",
              "      <td>10000000</td>\n",
              "      <td>10630000</td>\n",
              "      <td>10000000</td>\n",
              "      <td>10380000</td>\n",
              "      <td>10380000</td>\n",
              "      <td>2315600</td>\n",
              "    </tr>\n",
              "    <tr>\n",
              "      <th>2022-11-15</th>\n",
              "      <td>10590000</td>\n",
              "      <td>10590000</td>\n",
              "      <td>10180000</td>\n",
              "      <td>10360000</td>\n",
              "      <td>10360000</td>\n",
              "      <td>2617600</td>\n",
              "    </tr>\n",
              "    <tr>\n",
              "      <th>2022-11-16</th>\n",
              "      <td>10250000</td>\n",
              "      <td>10310000</td>\n",
              "      <td>9910000</td>\n",
              "      <td>9930000</td>\n",
              "      <td>9930000</td>\n",
              "      <td>2147500</td>\n",
              "    </tr>\n",
              "    <tr>\n",
              "      <th>2022-11-17</th>\n",
              "      <td>9730000</td>\n",
              "      <td>10110000</td>\n",
              "      <td>9630000</td>\n",
              "      <td>10080000</td>\n",
              "      <td>10080000</td>\n",
              "      <td>2082500</td>\n",
              "    </tr>\n",
              "    <tr>\n",
              "      <th>2022-11-18</th>\n",
              "      <td>10000000</td>\n",
              "      <td>10000000</td>\n",
              "      <td>9810000</td>\n",
              "      <td>9890000</td>\n",
              "      <td>9890000</td>\n",
              "      <td>1254500</td>\n",
              "    </tr>\n",
              "  </tbody>\n",
              "</table>\n",
              "<p>1259 rows × 6 columns</p>\n",
              "</div>\n",
              "      <button class=\"colab-df-convert\" onclick=\"convertToInteractive('df-5480a734-16c3-4e67-8ec8-79a362691da1')\"\n",
              "              title=\"Convert this dataframe to an interactive table.\"\n",
              "              style=\"display:none;\">\n",
              "        \n",
              "  <svg xmlns=\"http://www.w3.org/2000/svg\" height=\"24px\"viewBox=\"0 0 24 24\"\n",
              "       width=\"24px\">\n",
              "    <path d=\"M0 0h24v24H0V0z\" fill=\"none\"/>\n",
              "    <path d=\"M18.56 5.44l.94 2.06.94-2.06 2.06-.94-2.06-.94-.94-2.06-.94 2.06-2.06.94zm-11 1L8.5 8.5l.94-2.06 2.06-.94-2.06-.94L8.5 2.5l-.94 2.06-2.06.94zm10 10l.94 2.06.94-2.06 2.06-.94-2.06-.94-.94-2.06-.94 2.06-2.06.94z\"/><path d=\"M17.41 7.96l-1.37-1.37c-.4-.4-.92-.59-1.43-.59-.52 0-1.04.2-1.43.59L10.3 9.45l-7.72 7.72c-.78.78-.78 2.05 0 2.83L4 21.41c.39.39.9.59 1.41.59.51 0 1.02-.2 1.41-.59l7.78-7.78 2.81-2.81c.8-.78.8-2.07 0-2.86zM5.41 20L4 18.59l7.72-7.72 1.47 1.35L5.41 20z\"/>\n",
              "  </svg>\n",
              "      </button>\n",
              "      \n",
              "  <style>\n",
              "    .colab-df-container {\n",
              "      display:flex;\n",
              "      flex-wrap:wrap;\n",
              "      gap: 12px;\n",
              "    }\n",
              "\n",
              "    .colab-df-convert {\n",
              "      background-color: #E8F0FE;\n",
              "      border: none;\n",
              "      border-radius: 50%;\n",
              "      cursor: pointer;\n",
              "      display: none;\n",
              "      fill: #1967D2;\n",
              "      height: 32px;\n",
              "      padding: 0 0 0 0;\n",
              "      width: 32px;\n",
              "    }\n",
              "\n",
              "    .colab-df-convert:hover {\n",
              "      background-color: #E2EBFA;\n",
              "      box-shadow: 0px 1px 2px rgba(60, 64, 67, 0.3), 0px 1px 3px 1px rgba(60, 64, 67, 0.15);\n",
              "      fill: #174EA6;\n",
              "    }\n",
              "\n",
              "    [theme=dark] .colab-df-convert {\n",
              "      background-color: #3B4455;\n",
              "      fill: #D2E3FC;\n",
              "    }\n",
              "\n",
              "    [theme=dark] .colab-df-convert:hover {\n",
              "      background-color: #434B5C;\n",
              "      box-shadow: 0px 1px 3px 1px rgba(0, 0, 0, 0.15);\n",
              "      filter: drop-shadow(0px 1px 2px rgba(0, 0, 0, 0.3));\n",
              "      fill: #FFFFFF;\n",
              "    }\n",
              "  </style>\n",
              "\n",
              "      <script>\n",
              "        const buttonEl =\n",
              "          document.querySelector('#df-5480a734-16c3-4e67-8ec8-79a362691da1 button.colab-df-convert');\n",
              "        buttonEl.style.display =\n",
              "          google.colab.kernel.accessAllowed ? 'block' : 'none';\n",
              "\n",
              "        async function convertToInteractive(key) {\n",
              "          const element = document.querySelector('#df-5480a734-16c3-4e67-8ec8-79a362691da1');\n",
              "          const dataTable =\n",
              "            await google.colab.kernel.invokeFunction('convertToInteractive',\n",
              "                                                     [key], {});\n",
              "          if (!dataTable) return;\n",
              "\n",
              "          const docLinkHtml = 'Like what you see? Visit the ' +\n",
              "            '<a target=\"_blank\" href=https://colab.research.google.com/notebooks/data_table.ipynb>data table notebook</a>'\n",
              "            + ' to learn more about interactive tables.';\n",
              "          element.innerHTML = '';\n",
              "          dataTable['output_type'] = 'display_data';\n",
              "          await google.colab.output.renderOutput(dataTable, element);\n",
              "          const docLink = document.createElement('div');\n",
              "          docLink.innerHTML = docLinkHtml;\n",
              "          element.appendChild(docLink);\n",
              "        }\n",
              "      </script>\n",
              "    </div>\n",
              "  </div>\n",
              "  "
            ]
          },
          "metadata": {},
          "execution_count": 3
        }
      ]
    },
    {
      "cell_type": "markdown",
      "source": [
        "# Organizar el activo "
      ],
      "metadata": {
        "id": "vcGtUurFsrzC"
      }
    },
    {
      "cell_type": "markdown",
      "source": [
        "Se realiza la formula para trar solo la columna de precios de EC y reliazar su grafica "
      ],
      "metadata": {
        "id": "BExwXgZEucCH"
      }
    },
    {
      "cell_type": "code",
      "source": [
        "EC = EC.loc[:,\"Adj Close\"]"
      ],
      "metadata": {
        "id": "MyyA-_uPjyTk"
      },
      "execution_count": null,
      "outputs": []
    },
    {
      "cell_type": "code",
      "source": [
        "EC.plot()"
      ],
      "metadata": {
        "colab": {
          "base_uri": "https://localhost:8080/",
          "height": 298
        },
        "id": "UoSC7yL32ryP",
        "outputId": "afe50851-5bad-4bd8-8757-4aa439aa5784"
      },
      "execution_count": null,
      "outputs": [
        {
          "output_type": "execute_result",
          "data": {
            "text/plain": [
              "<matplotlib.axes._subplots.AxesSubplot at 0x7fd6d6fef550>"
            ]
          },
          "metadata": {},
          "execution_count": 5
        },
        {
          "output_type": "display_data",
          "data": {
            "text/plain": [
              "<Figure size 432x288 with 1 Axes>"
            ],
            "image/png": "[encoded data removed]"
          },
          "metadata": {
            "needs_background": "light"
          }
        }
      ]
    },
    {
      "cell_type": "markdown",
      "source": [
        "Retornos"
      ],
      "metadata": {
        "id": "4XMAfpzq7prK"
      }
    },
    {
      "cell_type": "code",
      "source": [
        "rEC = EC.pct_change().dropna()\n",
        "rEC"
      ],
      "metadata": {
        "colab": {
          "base_uri": "https://localhost:8080/"
        },
        "id": "mk3xKoP57j5d",
        "outputId": "24614808-aa33-481c-ccf1-b733654b0c6c"
      },
      "execution_count": null,
      "outputs": [
        {
          "output_type": "execute_result",
          "data": {
            "text/plain": [
              "Open\n",
              "2017-11-21    0.005217\n",
              "2017-11-22    0.028547\n",
              "2017-11-24   -0.011775\n",
              "2017-11-27    0.011064\n",
              "2017-11-28   -0.027778\n",
              "                ...   \n",
              "2022-11-14    0.043216\n",
              "2022-11-15   -0.001927\n",
              "2022-11-16   -0.041506\n",
              "2022-11-17    0.015106\n",
              "2022-11-18   -0.018849\n",
              "Name: Adj Close, Length: 1258, dtype: float64"
            ]
          },
          "metadata": {},
          "execution_count": 6
        }
      ]
    },
    {
      "cell_type": "markdown",
      "source": [
        "Volatilidad\n"
      ],
      "metadata": {
        "id": "z3iRpHfm7uoz"
      }
    },
    {
      "cell_type": "code",
      "source": [
        "rEC.plot(figsize = (10,5))\n"
      ],
      "metadata": {
        "colab": {
          "base_uri": "https://localhost:8080/",
          "height": 336
        },
        "id": "1_G0Kszj7mSI",
        "outputId": "297e8c0c-5bbb-42cb-ec38-ade9f351074e"
      },
      "execution_count": null,
      "outputs": [
        {
          "output_type": "execute_result",
          "data": {
            "text/plain": [
              "<matplotlib.axes._subplots.AxesSubplot at 0x7fd6d6a79350>"
            ]
          },
          "metadata": {},
          "execution_count": 7
        },
        {
          "output_type": "display_data",
          "data": {
            "text/plain": [
              "<Figure size 720x360 with 1 Axes>"
            ],
            "image/png": "[encoded data removed]"
          },
          "metadata": {
            "needs_background": "light"
          }
        }
      ]
    },
    {
      "cell_type": "markdown",
      "source": [
        "La volatilidad no es relativa ya que se puede evidenciar que entre los años 2020 y 2021 su comportamiento fue diferente"
      ],
      "metadata": {
        "id": "xGVjkVus9FIH"
      }
    },
    {
      "cell_type": "markdown",
      "source": [
        "# Simulación de Monte Carlo "
      ],
      "metadata": {
        "id": "PWyVNLBD_q7k"
      }
    },
    {
      "cell_type": "code",
      "source": [
        "import pandas as pd \n",
        "import numpy as np \n",
        "import seaborn as sns\n",
        "import scipy.stats\n",
        "from scipy.stats import norm\n",
        "import matplotlib.pyplot as plt\n",
        "import warnings\n",
        "warnings.simplefilter(\"ignore\")"
      ],
      "metadata": {
        "id": "6RoD3FKo9WJS"
      },
      "execution_count": null,
      "outputs": []
    },
    {
      "cell_type": "code",
      "source": [
        "mu = 100\n",
        "sd = 10\n",
        "simulations = 10000\n",
        "ma = np.random.normal(mu, sd, simulations)"
      ],
      "metadata": {
        "id": "XOcgq-vI_zK9"
      },
      "execution_count": null,
      "outputs": []
    },
    {
      "cell_type": "code",
      "source": [
        "plt.hist(ma,bins=30,density=True,label=\"Dist. empirica\")"
      ],
      "metadata": {
        "colab": {
          "base_uri": "https://localhost:8080/",
          "height": 579
        },
        "id": "UaV_x5zW_1wV",
        "outputId": "28ce626e-71ee-4529-c52f-a483c204e65c"
      },
      "execution_count": null,
      "outputs": [
        {
          "output_type": "execute_result",
          "data": {
            "text/plain": [
              "(array([7.81229483e-05, 3.90614742e-05, 2.34368845e-04, 3.90614742e-04,\n",
              "        1.24996717e-03, 1.40621307e-03, 3.55459415e-03, 5.74203670e-03,\n",
              "        9.57006117e-03, 1.34762086e-02, 1.93744912e-02, 2.60540033e-02,\n",
              "        3.38662981e-02, 3.79677529e-02, 3.76943226e-02, 4.05848716e-02,\n",
              "        3.74599537e-02, 3.23429006e-02, 2.75774008e-02, 2.21869173e-02,\n",
              "        1.49214831e-02, 1.00778603e-02, 6.79669650e-03, 3.86708594e-03,\n",
              "        1.95307371e-03, 1.17184422e-03, 5.46860638e-04, 2.73430319e-04,\n",
              "        3.90614742e-05, 1.17184422e-04]),\n",
              " array([ 61.38983415,  63.94990138,  66.50996861,  69.07003584,\n",
              "         71.63010307,  74.19017031,  76.75023754,  79.31030477,\n",
              "         81.870372  ,  84.43043923,  86.99050647,  89.5505737 ,\n",
              "         92.11064093,  94.67070816,  97.23077539,  99.79084262,\n",
              "        102.35090986, 104.91097709, 107.47104432, 110.03111155,\n",
              "        112.59117878, 115.15124602, 117.71131325, 120.27138048,\n",
              "        122.83144771, 125.39151494, 127.95158217, 130.51164941,\n",
              "        133.07171664, 135.63178387, 138.1918511 ]),\n",
              " <a list of 30 Patch objects>)"
            ]
          },
          "metadata": {},
          "execution_count": 11
        },
        {
          "output_type": "display_data",
          "data": {
            "text/plain": [
              "<Figure size 432x288 with 1 Axes>"
            ],
            "image/png": "[encoded data removed]"
          },
          "metadata": {
            "needs_background": "light"
          }
        }
      ]
    },
    {
      "cell_type": "code",
      "source": [
        "np.random.uniform()\n",
        "plt.hist(ma,bins=30,density=True,label=\"Dist. empirica\")"
      ],
      "metadata": {
        "colab": {
          "base_uri": "https://localhost:8080/",
          "height": 579
        },
        "id": "Ke7igmiM_-Hs",
        "outputId": "ac2fe24f-d54b-4ed8-a9a1-e55e6714a9ba"
      },
      "execution_count": null,
      "outputs": [
        {
          "output_type": "execute_result",
          "data": {
            "text/plain": [
              "(array([7.81229483e-05, 3.90614742e-05, 2.34368845e-04, 3.90614742e-04,\n",
              "        1.24996717e-03, 1.40621307e-03, 3.55459415e-03, 5.74203670e-03,\n",
              "        9.57006117e-03, 1.34762086e-02, 1.93744912e-02, 2.60540033e-02,\n",
              "        3.38662981e-02, 3.79677529e-02, 3.76943226e-02, 4.05848716e-02,\n",
              "        3.74599537e-02, 3.23429006e-02, 2.75774008e-02, 2.21869173e-02,\n",
              "        1.49214831e-02, 1.00778603e-02, 6.79669650e-03, 3.86708594e-03,\n",
              "        1.95307371e-03, 1.17184422e-03, 5.46860638e-04, 2.73430319e-04,\n",
              "        3.90614742e-05, 1.17184422e-04]),\n",
              " array([ 61.38983415,  63.94990138,  66.50996861,  69.07003584,\n",
              "         71.63010307,  74.19017031,  76.75023754,  79.31030477,\n",
              "         81.870372  ,  84.43043923,  86.99050647,  89.5505737 ,\n",
              "         92.11064093,  94.67070816,  97.23077539,  99.79084262,\n",
              "        102.35090986, 104.91097709, 107.47104432, 110.03111155,\n",
              "        112.59117878, 115.15124602, 117.71131325, 120.27138048,\n",
              "        122.83144771, 125.39151494, 127.95158217, 130.51164941,\n",
              "        133.07171664, 135.63178387, 138.1918511 ]),\n",
              " <a list of 30 Patch objects>)"
            ]
          },
          "metadata": {},
          "execution_count": 12
        },
        {
          "output_type": "display_data",
          "data": {
            "text/plain": [
              "<Figure size 432x288 with 1 Axes>"
            ],
            "image/png": "[encoded data removed]"
          },
          "metadata": {
            "needs_background": "light"
          }
        }
      ]
    },
    {
      "cell_type": "code",
      "source": [
        "np.random.normal(100,0.3,10000)\n",
        "#(Valor, probabilidad, tamaño de la muestra)\n",
        "plt.hist(ma,bins=30,density=True,label=\"Dist.Empirica\");"
      ],
      "metadata": {
        "colab": {
          "base_uri": "https://localhost:8080/",
          "height": 265
        },
        "id": "psl4L9pWAAAk",
        "outputId": "879b2be2-b612-42ed-c325-e6ba22892a17"
      },
      "execution_count": null,
      "outputs": [
        {
          "output_type": "display_data",
          "data": {
            "text/plain": [
              "<Figure size 432x288 with 1 Axes>"
            ],
            "image/png": "[encoded data removed]"
          },
          "metadata": {
            "needs_background": "light"
          }
        }
      ]
    },
    {
      "cell_type": "code",
      "source": [
        "# 1. Define inputs\n",
        "N = 100000\n",
        "inside = []\n",
        "# 2. Generate inputs randomly/ Gerenamos los uneros aleatoris para la abse y para la altura\n",
        "for i in range(N):\n",
        "    x = np.random.uniform(-1, 1)\n",
        "    y = np.random.uniform(-1, 1)\n",
        "    if np.sqrt(x**2 + y**2) < 1: # 3. Computation on the inputs\n",
        "        inside.append((x, y))"
      ],
      "metadata": {
        "id": "pd-rl0kbAG4Y"
      },
      "execution_count": null,
      "outputs": []
    },
    {
      "cell_type": "markdown",
      "source": [
        "Como conclusión de Monte Carlo y las simulaciones realizadas podemos decir que si bien es no es tan bueno invertir en EC por ls precios que presenta en diferentes de las simulaciones tambien nos muestra un riesgo muy alto debido a que su volatilidad y sus bajas que afectan de manera negativa al inversionista."
      ],
      "metadata": {
        "id": "PVJfOQ5hAkyc"
      }
    }
  ]
}